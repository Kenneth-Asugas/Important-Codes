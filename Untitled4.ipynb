{
  "nbformat": 4,
  "nbformat_minor": 0,
  "metadata": {
    "colab": {
      "provenance": [],
      "authorship_tag": "ABX9TyOldo5vQD9XkVfEr0ujL1M3",
      "include_colab_link": true
    },
    "kernelspec": {
      "name": "python3",
      "display_name": "Python 3"
    },
    "language_info": {
      "name": "python"
    }
  },
  "cells": [
    {
      "cell_type": "markdown",
      "metadata": {
        "id": "view-in-github",
        "colab_type": "text"
      },
      "source": [
        "<a href=\"https://colab.research.google.com/github/Kenneth-Asugas/Important-Codes/blob/main/Untitled4.ipynb\" target=\"_parent\"><img src=\"https://colab.research.google.com/assets/colab-badge.svg\" alt=\"Open In Colab\"/></a>"
      ]
    },
    {
      "cell_type": "code",
      "execution_count": 20,
      "metadata": {
        "id": "jaQXK9hdCL6W",
        "colab": {
          "base_uri": "https://localhost:8080/"
        },
        "outputId": "f73f1c6a-573f-46ef-86e7-2c700662e04a"
      },
      "outputs": [
        {
          "output_type": "stream",
          "name": "stdout",
          "text": [
            "Enter the name of the polygon: triangle\n",
            "Enter the number of sides: 3\n",
            "Enter the length of a side: 6\n",
            "\n",
            "Polygon Name: triangle\n",
            "Number of Sides: 3\n",
            "Side Length: 6.0\n",
            "Area: 15.59\n"
          ]
        }
      ],
      "source": [
        "import math\n",
        "\n",
        "class Polygons:\n",
        "    def __init__(self, name: str, sides: int, side_length: float):\n",
        "        self._name = name\n",
        "        self._sides = sides\n",
        "        self._side_length = side_length\n",
        "        self._area = self.calculate_area()\n",
        "\n",
        "    #Set\n",
        "    def set_name(self, name: str):\n",
        "        self._name = name\n",
        "\n",
        "    def set_sides(self, sides: int):\n",
        "        self._sides = sides\n",
        "        self._area = self.calculate_area()\n",
        "\n",
        "    def set_side_length(self, side_length: float):\n",
        "        self._side_length = side_length\n",
        "        self._area = self.calculate_area()\n",
        "\n",
        "    #Get\n",
        "    def get_name(self) -> str:\n",
        "        return self._name\n",
        "\n",
        "    def get_sides(self) -> int:\n",
        "        return self._sides\n",
        "\n",
        "    def get_side_length(self) -> float:\n",
        "        return self._side_length\n",
        "\n",
        "    def get_area(self) -> float:\n",
        "        return self._area\n",
        "\n",
        "    def calculate_area(self) -> float:\n",
        "\n",
        "        if self._sides < 3:\n",
        "            return 0  # Not a valid polygon\n",
        "\n",
        "        # n * s^2 (numerator)\n",
        "        numerator = self._sides * self._side_length**2\n",
        "        # 4 * tan(pi / n) (denominator)\n",
        "        denominator = 4 * math.tan(math.pi / self._sides)\n",
        "\n",
        "        # Area calculation\n",
        "        area = numerator / denominator\n",
        "        return area\n",
        "\n",
        "try:\n",
        "    shape = input(\"Enter the name of the polygon: \")\n",
        "    num_sides = int(input(\"Enter the number of sides: \"))\n",
        "    side_len = float(input(\"Enter the length of a side: \"))\n",
        "\n",
        "    polygon = Polygons(shape, num_sides, side_len)\n",
        "    print(f\"\\nPolygon Name: {polygon.get_name()}\")\n",
        "    print(f\"Number of Sides: {polygon.get_sides()}\")\n",
        "    print(f\"Side Length: {polygon.get_side_length()}\")\n",
        "    print(f\"Area: {polygon.get_area():.2f}\")\n",
        "\n",
        "except ValueError:\n",
        "    print(\"Invalid input. Please enter valid numbers for sides and side length.\")"
      ]
    }
  ]
}